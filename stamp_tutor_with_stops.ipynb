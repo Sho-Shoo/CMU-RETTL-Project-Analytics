{
 "cells": [
  {
   "cell_type": "markdown",
   "metadata": {},
   "source": [
    "In this notebook, we are going to take the original tutor log data at transaction level and stamp it with additional columns on whether the teacher is detected to be stopping beside the student at that moment. "
   ]
  },
  {
   "cell_type": "code",
   "execution_count": 9,
   "metadata": {},
   "outputs": [],
   "source": [
    "# python setup \n",
    "import pandas as pd \n",
    "import numpy as np \n",
    "import tutorDataAPI as tutorAPI\n",
    "import stop_detection as sDetec"
   ]
  },
  {
   "cell_type": "markdown",
   "metadata": {},
   "source": [
    "# 1. Loading data from files"
   ]
  },
  {
   "cell_type": "markdown",
   "metadata": {},
   "source": [
    "Load teacher position data from corresponding file: "
   ]
  },
  {
   "cell_type": "code",
   "execution_count": 10,
   "metadata": {},
   "outputs": [],
   "source": [
    "positionDF = pd.read_csv(\"output_files/teacher_position_sprint1_shou.csv\", \n",
    "                         index_col=False) \n",
    "\n",
    "startTime = min(positionDF[\"time_stamp\"])\n",
    "endTime = max(positionDF[\"time_stamp\"]) "
   ]
  },
  {
   "cell_type": "markdown",
   "metadata": {},
   "source": [
    "Read in the transaction level tutor log data: "
   ]
  },
  {
   "cell_type": "code",
   "execution_count": 11,
   "metadata": {},
   "outputs": [
    {
     "name": "stderr",
     "output_type": "stream",
     "text": [
      "/Users/shoutianze/Desktop/CMU-RETTL-Project-Analytics/tutorDataAPI.py:556: DtypeWarning: Columns (16) have mixed types. Specify dtype option on import or set low_memory=False.\n",
      "  tutorLogDF = pd.read_csv(tutorLogFilePath, delimiter=delimiter, index_col=False)\n"
     ]
    }
   ],
   "source": [
    "tutorLogDF = tutorAPI.getAnnotatedTutorLogDF(\"raw data/tutor_log.tsv\", \n",
    "                                             startTimestamp=startTime, \n",
    "                                             endTimestamp=endTime) \n",
    "\n",
    "def getDayPeriod(timestamp): \n",
    "    \"\"\"\n",
    "    Finds the dayID and periodID given a timestamp, if not fitted into any day/period, returns (nan, nan)\n",
    "    \"\"\"\n",
    "    # start and end time of each day/period \n",
    "                # period1                                  period2                                   period3                                   period4                                   period5\n",
    "    startTimes = [ \n",
    "                 [tutorAPI.EDTDatetime2epoch(\"2022-05-23 08:26:00\"), tutorAPI.EDTDatetime2epoch(\"2022-05-23 10:13:00\"), tutorAPI.EDTDatetime2epoch(\"2022-05-23 11:05:00\"), tutorAPI.EDTDatetime2epoch(\"2022-05-23 12:36:00\"), tutorAPI.EDTDatetime2epoch(\"2022-05-23 14:17:00\")], # day1\n",
    "                 [tutorAPI.EDTDatetime2epoch(\"2022-05-24 08:21:00\"), tutorAPI.EDTDatetime2epoch(\"2022-05-24 10:02:00\"), tutorAPI.EDTDatetime2epoch(\"2022-05-24 10:57:00\"), tutorAPI.EDTDatetime2epoch(\"2022-05-24 12:24:00\"), tutorAPI.EDTDatetime2epoch(\"2022-05-24 14:07:00\")], # day2\n",
    "                 [tutorAPI.EDTDatetime2epoch(\"2022-05-25 08:21:00\"), tutorAPI.EDTDatetime2epoch(\"2022-05-25 10:01:00\"), tutorAPI.EDTDatetime2epoch(\"2022-05-25 10:55:00\"), tutorAPI.EDTDatetime2epoch(\"2022-05-25 12:24:00\"), tutorAPI.EDTDatetime2epoch(\"2022-05-25 14:07:00\")]  # day3\n",
    "                 ] \n",
    "\n",
    "                # period1                                  period2                                   period3                                   period4                                   period5\n",
    "    endTimes =  [ \n",
    "                [tutorAPI.EDTDatetime2epoch(\"2022-05-23 08:53:00\"), tutorAPI.EDTDatetime2epoch(\"2022-05-23 10:41:00\"), tutorAPI.EDTDatetime2epoch(\"2022-05-23 11:30:00\"), tutorAPI.EDTDatetime2epoch(\"2022-05-23 13:00:00\"), tutorAPI.EDTDatetime2epoch(\"2022-05-23 14:40:00\")], # day1\n",
    "                [tutorAPI.EDTDatetime2epoch(\"2022-05-24 08:43:00\"), tutorAPI.EDTDatetime2epoch(\"2022-05-24 10:27:00\"), tutorAPI.EDTDatetime2epoch(\"2022-05-24 11:15:00\"), tutorAPI.EDTDatetime2epoch(\"2022-05-24 12:48:00\"), tutorAPI.EDTDatetime2epoch(\"2022-05-24 14:30:00\")], # day2\n",
    "                [tutorAPI.EDTDatetime2epoch(\"2022-05-25 08:43:00\"), tutorAPI.EDTDatetime2epoch(\"2022-05-25 10:24:00\"), tutorAPI.EDTDatetime2epoch(\"2022-05-25 11:18:00\"), tutorAPI.EDTDatetime2epoch(\"2022-05-25 12:47:00\"), tutorAPI.EDTDatetime2epoch(\"2022-05-25 14:30:00\")]  # day3\n",
    "                ] \n",
    "    \n",
    "    for day in range(3): \n",
    "        for period in range(5): \n",
    "            if startTimes[day][period] <= timestamp <= endTimes[day][period]: \n",
    "                return (day+1, period+1)\n",
    "\n",
    "    return (np.nan, np.nan) \n",
    "\n",
    "def getDayID(timestamp): \n",
    "    return getDayPeriod(timestamp)[0] \n",
    "\n",
    "def getPeriodID(timestamp): \n",
    "    return getDayPeriod(timestamp)[1]\n",
    "\n",
    "# mutate two new columns indicating dayID and periodID \n",
    "tutorLogDF[\"periodID\"] = tutorLogDF[\"timestamp\"].apply(getPeriodID)\n",
    "tutorLogDF[\"dayID\"] = tutorLogDF[\"timestamp\"].apply(getDayID)\n",
    "\n",
    "# filtered out only those entries within some day/period \n",
    "tutorLogDF = tutorLogDF.loc[tutorLogDF[\"dayID\"].notnull()]\n",
    "tutorLogDF = tutorLogDF.loc[tutorLogDF[\"periodID\"].notnull()] \n",
    "\n",
    "# sort by timestamp \n",
    "tutorLogDF = tutorLogDF.sort_values(by=\"timestamp\")\n",
    "tutorLogDF.index = np.arange(len(tutorLogDF))\n"
   ]
  },
  {
   "cell_type": "markdown",
   "metadata": {},
   "source": [
    "# 2. Calculating stops and corresponding centroids from position data"
   ]
  },
  {
   "cell_type": "code",
   "execution_count": 12,
   "metadata": {},
   "outputs": [],
   "source": [
    "# data mine stops and corresponding centroids with the following parameter setting\n",
    "stopsAndCentroids = sDetec.getStopsAndCentroids(positionDF[\"chosen_X\"], \n",
    "                                                positionDF[\"chosen_Y\"], \n",
    "                                                positionDF[\"time_stamp\"], \n",
    "                                                positionDF[\"periodID\"], \n",
    "                                                positionDF[\"dayID\"], \n",
    "                                                duration=10, radius=500) \n",
    "# separate stops tuple from centroid tuple \n",
    "stops = [(elem[0], elem[1]) for elem in stopsAndCentroids]\n",
    "centroids = [(elem[2], elem[3]) for elem in stopsAndCentroids]"
   ]
  },
  {
   "cell_type": "markdown",
   "metadata": {},
   "source": [
    "# 3. Determine if each transaction take place with in `range` distance of a stop"
   ]
  },
  {
   "cell_type": "markdown",
   "metadata": {},
   "source": [
    "We first have to know each student's position during each period/day. "
   ]
  },
  {
   "cell_type": "code",
   "execution_count": 13,
   "metadata": {},
   "outputs": [],
   "source": [
    "# grab the mapping file \n",
    "positionMappingDF = pd.read_csv(\"output_files/student_position_sprint1_shou.csv\", index_col=False) \n",
    "positionMapping = dict() \n",
    "# the following for loop construct this mapping variable \n",
    "for i in positionMappingDF.index: \n",
    "    dayID = positionMappingDF.loc[i, \"dayID\"]\n",
    "    periodID = positionMappingDF.loc[i, \"periodID\"] \n",
    "    studentID = positionMappingDF.loc[i, \"anon_user_id\"] \n",
    "    coordinate = (positionMappingDF.loc[i, \"X\"], positionMappingDF.loc[i, \"Y\"]) \n",
    "    # insert the key-value entry into the mapping \n",
    "    positionMapping[(dayID, periodID, studentID)] = coordinate \n",
    "\n",
    "# construct a list of coordinates that has the same length as \n",
    "# tutorLogDF[\"Anon Student Id\"], but with value of coordinates corresponding \n",
    "# to these students \n",
    "\n",
    "studentPos = list() \n",
    "for i in tutorLogDF.index: \n",
    "    dayID = tutorLogDF.loc[i, \"dayID\"] \n",
    "    periodID = tutorLogDF.loc[i, \"periodID\"] \n",
    "    studentID = tutorLogDF.loc[i, \"Anon Student Id\"] \n",
    "    studentPos.append(positionMapping.get((dayID, periodID, studentID), (np.nan, np.nan))) \n"
   ]
  },
  {
   "cell_type": "code",
   "execution_count": 14,
   "metadata": {},
   "outputs": [],
   "source": [
    "from typing import Iterable\n",
    "# this works under the assumption that input timestamp sequance is sorted ascending \n",
    "def isBesideStop(studentPos: Iterable, timestamps: Iterable, stops: Iterable, centroids: Iterable, rng): \n",
    "\n",
    "    assert len(studentPos) == len(timestamps) \n",
    "    assert len(stops) == len(centroids) \n",
    "\n",
    "    # result, to be returned \n",
    "    res = list() \n",
    "\n",
    "    searchStart = 0 # search start index for looking at stops \n",
    "    for i in range(len(studentPos)): \n",
    "        teacherIsBeside = False \n",
    "        position = studentPos[i] \n",
    "        timestamp = timestamps[i] \n",
    "\n",
    "        # this means that the student's position is undocumented \n",
    "        if np.isnan(position[0]) or np.isnan(position[1]): \n",
    "            res.append(False) \n",
    "            continue\n",
    "\n",
    "        # start searching from seachStart \n",
    "        for j in range(len(stops)): \n",
    "            stopStart, stopEnd = stops[j] \n",
    "            assert stopEnd > stopStart\n",
    "            centroid = centroids[j] \n",
    "            \n",
    "            if timestamp < stopStart: \n",
    "                searchStart = j\n",
    "            # timestamp within bound\n",
    "            elif stopStart <= timestamp and timestamp <= stopEnd: \n",
    "                searchStart = j # update searchStart to be current index\n",
    "                                # since all of the following timestamps are \n",
    "                                # garanteed to be larger that the current one \n",
    "                if sDetec.getDist(position, centroid) <= rng: # within rng distance, toggle teacherIsBeside to True\n",
    "                    teacherIsBeside = True \n",
    "            else: \n",
    "                assert timestamp > stopEnd\n",
    "                #break \n",
    "\n",
    "        if teacherIsBeside: res.append(True) \n",
    "        else: res.append(False) \n",
    "\n",
    "    return res \n",
    "\n",
    "for rng in [500, 1000, 1500]: \n",
    "    vals = isBesideStop(studentPos, tutorLogDF[\"timestamp\"].tolist(), stops, centroids, rng=rng) \n",
    "    tutorLogDF[f\"isBesideStop_rng{rng}\"] = vals\n",
    "\n"
   ]
  },
  {
   "cell_type": "code",
   "execution_count": 15,
   "metadata": {},
   "outputs": [],
   "source": [
    "exportCSV = True\n",
    "if exportCSV: \n",
    "    tutorLogDF.to_csv(\"output_files/tutor_log_tagged_with_stop.csv\", index=False)"
   ]
  }
 ],
 "metadata": {
  "kernelspec": {
   "display_name": "Python 3.8.9 64-bit",
   "language": "python",
   "name": "python3"
  },
  "language_info": {
   "codemirror_mode": {
    "name": "ipython",
    "version": 3
   },
   "file_extension": ".py",
   "mimetype": "text/x-python",
   "name": "python",
   "nbconvert_exporter": "python",
   "pygments_lexer": "ipython3",
   "version": "3.8.9"
  },
  "orig_nbformat": 4,
  "vscode": {
   "interpreter": {
    "hash": "31f2aee4e71d21fbe5cf8b01ff0e069b9275f58929596ceb00d14d90e3e16cd6"
   }
  }
 },
 "nbformat": 4,
 "nbformat_minor": 2
}
