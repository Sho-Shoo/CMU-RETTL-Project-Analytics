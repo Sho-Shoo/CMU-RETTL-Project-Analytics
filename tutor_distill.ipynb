{
 "cells": [
  {
   "cell_type": "markdown",
   "source": [
    "In this notebook, we are going to distill the tutor log data into event-actor-subject format. Here are some baic assumptions to the distilling process: \n",
    "\n",
    "- Students can only conduct two actions in this dataset: `ATTEMPT` and `HINT REQUEST`\n",
    "- Subject will be `tutor` for all actions \n",
    "- Time will be sunchronized using epoch timestamp "
   ],
   "metadata": {}
  },
  {
   "cell_type": "code",
   "execution_count": 15,
   "source": [
    "import numpy as np\n",
    "import pandas as pd\n",
    "import import_ipynb\n",
    "from tutor_log_summary_stat import *\n",
    "\n",
    "# data-loading \n",
    "tutorLogDF = pd.read_csv(\"raw data/tutor_log.tsv\", delimiter=\"\\t\", index_col=False) \n",
    "tutorLogDF[\"Time Zone\"] = \"UTC\" # the logs are entered in UTC time zone \n",
    "tutorLogDF[\"timestamp\"] = tutorLogDF[\"Time\"].apply(UTCDatetime2epoch) # add a new column with unix time stamps \n",
    "tutorLogDF[\"EDT_time\"] = tutorLogDF[\"timestamp\"].apply(epoch2datetimeInEDT) # append a new column with EDT time information to be more intuitive \n",
    "\n",
    "# only aceepting data within the experiment period, which is between 05/23/2022 and 05/25/2022 \n",
    "experimentStartTimestamp = EDTDatetime2epoch(\"2022-05-23 08:00:00\")\n",
    "experimentEndTimestamp = EDTDatetime2epoch(\"2022-05-25 16:00:00\")\n",
    "tutorLogDF = filterWithTime(tutorLogDF, experimentStartTimestamp, experimentEndTimestamp) "
   ],
   "outputs": [
    {
     "output_type": "stream",
     "name": "stderr",
     "text": [
      "/var/folders/jk/t2z3d3zd447g4wlv0rvml1400000gn/T/ipykernel_42942/4286908585.py:7: DtypeWarning: Columns (16) have mixed types. Specify dtype option on import or set low_memory=False.\n",
      "  tutorLogDF = pd.read_csv(\"raw data/tutor_log.tsv\", delimiter=\"\\t\", index_col=False)\n"
     ]
    }
   ],
   "metadata": {}
  },
  {
   "cell_type": "code",
   "execution_count": 19,
   "source": [
    "# helper function definitions \n",
    "\n",
    "def getDayPeriod(timestamp): \n",
    "    \"\"\"\n",
    "    Determine which day/period the given time stamp is in; if not in any day/period, returns None \n",
    "\n",
    "    Args:\n",
    "        timestamp (int): epoch time stamp \n",
    "\n",
    "    Returns:\n",
    "        (int, int) or None: (dayID, periodID) tuple if the time stamp is within any day/period; None if not within any \n",
    "    \"\"\"    \n",
    "\n",
    "    # start and end time of each day/period \n",
    "                    # period1                                  period2                                   period3                                   period4                                   period5\n",
    "    startTimes =  [ \n",
    "                    [EDTDatetime2epoch(\"2022-05-23 08:26:00\"), EDTDatetime2epoch(\"2022-05-23 10:13:00\"), EDTDatetime2epoch(\"2022-05-23 11:05:00\"), EDTDatetime2epoch(\"2022-05-23 12:36:00\"), EDTDatetime2epoch(\"2022-05-23 14:17:00\")], # day1\n",
    "                    [EDTDatetime2epoch(\"2022-05-24 08:21:00\"), EDTDatetime2epoch(\"2022-05-24 10:02:00\"), EDTDatetime2epoch(\"2022-05-24 10:57:00\"), EDTDatetime2epoch(\"2022-05-24 12:24:00\"), EDTDatetime2epoch(\"2022-05-24 14:07:00\")], # day2\n",
    "                    [EDTDatetime2epoch(\"2022-05-25 08:21:00\"), EDTDatetime2epoch(\"2022-05-25 10:01:00\"), EDTDatetime2epoch(\"2022-05-25 10:55:00\"), EDTDatetime2epoch(\"2022-05-25 12:24:00\"), EDTDatetime2epoch(\"2022-05-25 14:07:00\")]  # day3\n",
    "                  ] \n",
    "\n",
    "                # period1                                  period2                                   period3                                   period4                                   period5\n",
    "    endTimes =  [ \n",
    "                [EDTDatetime2epoch(\"2022-05-23 08:53:00\"), EDTDatetime2epoch(\"2022-05-23 10:41:00\"), EDTDatetime2epoch(\"2022-05-23 11:30:00\"), EDTDatetime2epoch(\"2022-05-23 13:00:00\"), EDTDatetime2epoch(\"2022-05-23 14:40:00\")], # day1\n",
    "                [EDTDatetime2epoch(\"2022-05-24 08:43:00\"), EDTDatetime2epoch(\"2022-05-24 10:27:00\"), EDTDatetime2epoch(\"2022-05-24 11:15:00\"), EDTDatetime2epoch(\"2022-05-24 12:48:00\"), EDTDatetime2epoch(\"2022-05-24 14:30:00\")], # day2\n",
    "                [EDTDatetime2epoch(\"2022-05-25 08:43:00\"), EDTDatetime2epoch(\"2022-05-25 10:24:00\"), EDTDatetime2epoch(\"2022-05-25 11:18:00\"), EDTDatetime2epoch(\"2022-05-25 12:47:00\"), EDTDatetime2epoch(\"2022-05-25 14:30:00\")]  # day3\n",
    "                ] \n",
    "\n",
    "    days = 3 \n",
    "    periods = 5\n",
    "    for day in range(days): \n",
    "        for period in range(periods): \n",
    "\n",
    "            # see if the time stamp is within this day/period's start and end time \n",
    "            if(startTimes[day][period] <= timestamp and \n",
    "               timestamp <= endTimes[day][period]): \n",
    "                # if condition is true, return this day and period\n",
    "                # going to + 1 for each of them since we are counting from 1 for these variables \n",
    "                return (day + 1, period + 1)\n",
    "\n",
    "    # return None is this time stamp is not within any day/period \n",
    "    return None\n"
   ],
   "outputs": [],
   "metadata": {}
  },
  {
   "cell_type": "code",
   "execution_count": 22,
   "source": [
    "# distill chunk \n",
    "\n",
    "if __name__ == \"__main__\": \n",
    "\n",
    "    outputDF = pd.DataFrame(columns=[\"dayID\", \"periodID\", \"timestamp\", \"event\", \"actor\", \"subject\", \"content\"]) \n",
    "\n",
    "    # go through tutorLogDF to distill event rows \n",
    "    for i in range(len(tutorLogDF)): \n",
    "\n",
    "        currTutorRow = tutorLogDF.iloc[i,] # i-th row in tutor log data \n",
    "        newOutputRow = dict() # to be appended to outputDF\n",
    "\n",
    "        # this signals a student attempt event \n",
    "        if(currTutorRow[\"Student Response Type\"] == \"ATTEMPT\" and \n",
    "        currTutorRow[\"Tutor Response Type\"] == \"RESULT\"):\n",
    "            \n",
    "            # make sure that this tutor data row is in some class period with respect to timestamp \n",
    "            if(getDayPeriod(currTutorRow[\"timestamp\"]) == None): continue \n",
    "            \n",
    "            # populate this output dataset row \n",
    "            timestamp = currTutorRow[\"timestamp\"]\n",
    "            dayID, periodID = getDayPeriod(timestamp) \n",
    "            event = currTutorRow[\"Student Response Type\"] # ATTEMPT in this case \n",
    "            actor = currTutorRow[\"Anon Student Id\"] \n",
    "            subject = \"tutor\" \n",
    "            content = \"Outcome is \" + currTutorRow[\"Outcome\"] + \"; \"\n",
    "            assert(currTutorRow[\"Outcome\"] == \"CORRECT\" or currTutorRow[\"Outcome\"] == \"INCORRECT\") # safety check \n",
    "            content += \"student input is \" + currTutorRow[\"Input\"] + \"; \" \n",
    "            content += \"problem level is \" + currTutorRow[\"Level (ProblemSet)\"] \n",
    "\n",
    "        # this signals a student hint request event \n",
    "        elif(currTutorRow[\"Student Response Type\"] == \"HINT_REQUEST\" and \n",
    "            currTutorRow[\"Tutor Response Type\"] == \"HINT_MSG\"):\n",
    "\n",
    "            # make sure that this tutor data row is in some class period with respect to timestamp \n",
    "            if(getDayPeriod(currTutorRow[\"timestamp\"]) == None): continue \n",
    "\n",
    "            # populate this output dataset row \n",
    "            timestamp = currTutorRow[\"timestamp\"]\n",
    "            dayID, periodID = getDayPeriod(timestamp) \n",
    "            event = currTutorRow[\"Student Response Type\"] # HINT_REQUEST in this case \n",
    "            actor = currTutorRow[\"Anon Student Id\"] \n",
    "            subject = \"tutor\" \n",
    "            content = \"Hint message is \" + currTutorRow[\"Feedback Text\"] + \"; \"\n",
    "            assert(currTutorRow[\"Outcome\"] == \"HINT\") # safety check \n",
    "            content += \"problem level is \" + currTutorRow[\"Level (ProblemSet)\"] \n",
    "\n",
    "        # this row of tutor log does not constitute a legal event \n",
    "        else: continue\n",
    "\n",
    "        newOutputRow = {\"dayID\": [dayID], \n",
    "                        \"periodID\": [periodID], \n",
    "                        \"timestamp\": [timestamp], \n",
    "                        \"event\": [event], \n",
    "                        \"actor\": [actor], \n",
    "                        \"subject\": [subject], \n",
    "                        \"content\": [content]}\n",
    "        newDF = pd.DataFrame(newOutputRow) \n",
    "        outputDF = pd.concat([outputDF, newDF], ignore_index=True) \n"
   ],
   "outputs": [],
   "metadata": {}
  },
  {
   "cell_type": "code",
   "execution_count": 23,
   "source": [
    "if __name__ == \"__main__\": \n",
    "    outputDF.to_csv(\"output_files/tutor_events.csv\", index=False) "
   ],
   "outputs": [],
   "metadata": {}
  }
 ],
 "metadata": {
  "orig_nbformat": 4,
  "language_info": {
   "name": "python",
   "version": "3.8.5",
   "mimetype": "text/x-python",
   "codemirror_mode": {
    "name": "ipython",
    "version": 3
   },
   "pygments_lexer": "ipython3",
   "nbconvert_exporter": "python",
   "file_extension": ".py"
  },
  "kernelspec": {
   "name": "python3",
   "display_name": "Python 3.8.5 64-bit"
  },
  "interpreter": {
   "hash": "aee8b7b246df8f9039afb4144a1f6fd8d2ca17a180786b69acc140d282b71a49"
  }
 },
 "nbformat": 4,
 "nbformat_minor": 2
}