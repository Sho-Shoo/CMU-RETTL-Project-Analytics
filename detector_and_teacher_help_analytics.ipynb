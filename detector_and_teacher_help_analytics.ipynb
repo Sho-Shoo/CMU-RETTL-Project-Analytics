{
 "cells": [
  {
   "cell_type": "markdown",
   "source": [
    "This notebook is created during Vincent's Lab RETTL Project Summer 2022 by Tianze (Steven) Shou \n",
    "\n",
    "In this notebook, we are going to take `detector_results.csv` and aggregate the data by `studentID`, `periodID`, and `dayID` to summarize each student's struggle, system misuse, gaming, and idleness status in each day/period. We are also going to summarize teacher's help offered to each student during each day/period, each student's help seeking pattern (raising hands) for each day/period from `observation_events.tsv`. Eventually we are going to put them together to see if these variables pertain any correlation. "
   ],
   "metadata": {}
  },
  {
   "cell_type": "code",
   "execution_count": 2,
   "source": [
    "# python setup \n",
    "import pandas as pd"
   ],
   "outputs": [],
   "metadata": {}
  },
  {
   "cell_type": "markdown",
   "source": [
    "# 1. Data Aggregation \n",
    "\n",
    "We are going to aggregate all extracted data into `analyticsDF` for further analysis. "
   ],
   "metadata": {}
  },
  {
   "cell_type": "code",
   "execution_count": 7,
   "source": [
    "# file loading \n",
    "detectorDF = pd.read_csv(\"output_files/detector_results.csv\", index_col=False) \n",
    "obsEventsDF = pd.read_csv(\"output_files/event_master_file.csv\", index_col=False)\n",
    "obsEventsDF = obsEventsDF.loc[obsEventsDF[\"modality\"] == \"observation\"]"
   ],
   "outputs": [],
   "metadata": {}
  },
  {
   "cell_type": "markdown",
   "source": [
    "## 1.1 Extracting Hand-Raises and Teacher-Visits From Observation"
   ],
   "metadata": {}
  },
  {
   "cell_type": "code",
   "execution_count": 10,
   "source": [
    "def isValidStudID(studID: str) -> bool: \n",
    "    assert isinstance(studID, str)\n",
    "    return studID[:4] == \"Stu_\"\n",
    "\n",
    "# extract number of teacher visits and number of hand raises by studentID, periodID, and dayID from observation events \n",
    "if __name__ == \"__main__\": \n",
    "\n",
    "    # structure of these mapping: (dayID, periodID, studID): number of \n",
    "    # teahcer-visit/hand-raises during the day/period for the given student \n",
    "    teacherVisitMapping = dict() \n",
    "    handRaisesMapping = dict() \n",
    "\n",
    "    for i in obsEventsDF.index: \n",
    "\n",
    "        event = obsEventsDF.loc[i, \"event\"] \n",
    "        isVisitEvent = (event == \"Talking to student: ON-task\" or \n",
    "                        event == \"Talking to small group: ON-task\") \n",
    "        isHandRaiseEvent = (event == \"Raising hand\")\n",
    "        subject = obsEventsDF.loc[i, \"subject\"] \n",
    "        actor = obsEventsDF.loc[i, \"actor\"] \n",
    "        periodID, dayID = obsEventsDF.loc[i, \"periodID\"], obsEventsDF.loc[i, \"dayID\"]\n",
    "\n",
    "        # valid visit event with valid student as subject, add 1 to count \n",
    "        if isVisitEvent and isValidStudID(subject): \n",
    "            teacherVisitMapping[(dayID, periodID, subject)] = teacherVisitMapping.get((dayID, periodID, subject), 0) + 1 \n",
    "\n",
    "        # valid hand-raising event with valid student as actor, add 1 to count\n",
    "        elif isHandRaiseEvent and isValidStudID(actor): \n",
    "            handRaisesMapping[(dayID, periodID, actor)] = handRaisesMapping.get((dayID, periodID, actor), 0) + 1 \n",
    "\n",
    "    # transform mappings into dataframes \n",
    "    dayID = [ key[0] for key in teacherVisitMapping ] \n",
    "    periodID = [ key[1] for key in teacherVisitMapping ] \n",
    "    studentID = [ key[2] for key in teacherVisitMapping ] \n",
    "    totalTeacherVisits = [ teacherVisitMapping[key] for key in teacherVisitMapping ] \n",
    "    teacherVisitDF = pd.DataFrame({\"dayID\": dayID, \n",
    "                                   \"periodID\": periodID, \n",
    "                                   \"studentID\": studentID, \n",
    "                                   \"totalTeacherVisits\": totalTeacherVisits}) \n",
    "\n",
    "    # do the same to hand raises \n",
    "    dayID = [ key[0] for key in handRaisesMapping ] \n",
    "    periodID = [ key[1] for key in handRaisesMapping ] \n",
    "    studentID = [ key[2] for key in handRaisesMapping ] \n",
    "    totalHandRaises = [ handRaisesMapping[key] for key in handRaisesMapping ] \n",
    "    handRaisesDF = pd.DataFrame({\"dayID\": dayID, \n",
    "                                 \"periodID\": periodID, \n",
    "                                 \"studentID\": studentID, \n",
    "                                 \"totalHandRaises\": totalHandRaises}) \n",
    "\n",
    "    # outer merge teahcer-vists and hand-raises dataframe \n",
    "    analyticsDF = pd.merge(teacherVisitDF, handRaisesDF, \n",
    "                           on=[\"dayID\", \"periodID\", \"studentID\"], how=\"outer\")\n",
    "\n"
   ],
   "outputs": [],
   "metadata": {}
  }
 ],
 "metadata": {
  "orig_nbformat": 4,
  "language_info": {
   "name": "python",
   "version": "3.8.5",
   "mimetype": "text/x-python",
   "codemirror_mode": {
    "name": "ipython",
    "version": 3
   },
   "pygments_lexer": "ipython3",
   "nbconvert_exporter": "python",
   "file_extension": ".py"
  },
  "kernelspec": {
   "name": "python3",
   "display_name": "Python 3.8.5 64-bit"
  },
  "interpreter": {
   "hash": "aee8b7b246df8f9039afb4144a1f6fd8d2ca17a180786b69acc140d282b71a49"
  }
 },
 "nbformat": 4,
 "nbformat_minor": 2
}